{
 "cells": [
  {
   "cell_type": "code",
   "execution_count": 1,
   "metadata": {},
   "outputs": [],
   "source": [
    "%matplotlib inline\n",
    "import pandas as pd"
   ]
  },
  {
   "cell_type": "code",
   "execution_count": 2,
   "metadata": {},
   "outputs": [
    {
     "data": {
      "text/html": [
       "<style>body {\n",
       "    margin: 0;\n",
       "    font-family: Helvetica;\n",
       "}\n",
       "table.dataframe {\n",
       "    border-collapse: collapse;\n",
       "    border: none;\n",
       "}\n",
       "table.dataframe tr {\n",
       "    border: none;\n",
       "}\n",
       "table.dataframe td, table.dataframe th {\n",
       "    margin: 0;\n",
       "    border: 1px solid white;\n",
       "    padding-left: 0.25em;\n",
       "    padding-right: 0.25em;\n",
       "}\n",
       "table.dataframe th:not(:empty) {\n",
       "    background-color: #fec;\n",
       "    text-align: left;\n",
       "    font-weight: normal;\n",
       "}\n",
       "table.dataframe tr:nth-child(2) th:empty {\n",
       "    border-left: none;\n",
       "    border-right: 1px dashed #888;\n",
       "}\n",
       "table.dataframe td {\n",
       "    border: 2px solid #ccf;\n",
       "    background-color: #f4f4ff;\n",
       "}\n",
       "h3 {\n",
       "    color: white;\n",
       "    background-color: black;\n",
       "    padding: 0.5em;\n",
       "}\n",
       "</style>"
      ],
      "text/plain": [
       "<IPython.core.display.HTML object>"
      ]
     },
     "execution_count": 2,
     "metadata": {},
     "output_type": "execute_result"
    }
   ],
   "source": [
    "from IPython.core.display import HTML\n",
    "css = open('style-table.css').read() + open('style-notebook.css').read()\n",
    "HTML('<style>{}</style>'.format(css))"
   ]
  },
  {
   "cell_type": "markdown",
   "metadata": {},
   "source": [
    "Helpful Links\n",
    "======\n",
    "\n",
    "[Brandon Rhodes Github](https://github.com/brandon-rhodes/pycon-pandas-tutorial/)\n",
    "\n",
    "[Changing Data Types](https://www.ritchieng.com/pandas-changing-datatype/)\n",
    "\n",
    "[Renaming Columns](https://cmdlinetips.com/2018/03/how-to-change-column-names-and-row-indexes-in-pandas/)"
   ]
  },
  {
   "cell_type": "code",
   "execution_count": 3,
   "metadata": {},
   "outputs": [],
   "source": [
    "df = pd.read_csv('tornadoes.csv', encoding = \"ISO-8859-1\")"
   ]
  },
  {
   "cell_type": "code",
   "execution_count": 4,
   "metadata": {},
   "outputs": [
    {
     "data": {
      "text/html": [
       "<div>\n",
       "<style scoped>\n",
       "    .dataframe tbody tr th:only-of-type {\n",
       "        vertical-align: middle;\n",
       "    }\n",
       "\n",
       "    .dataframe tbody tr th {\n",
       "        vertical-align: top;\n",
       "    }\n",
       "\n",
       "    .dataframe thead th {\n",
       "        text-align: right;\n",
       "    }\n",
       "</style>\n",
       "<table border=\"1\" class=\"dataframe\">\n",
       "  <thead>\n",
       "    <tr style=\"text-align: right;\">\n",
       "      <th></th>\n",
       "      <th>YYYY_LOCAL</th>\n",
       "      <th>MM_LOCAL</th>\n",
       "      <th>DD_LOCAL</th>\n",
       "      <th>HHMM_LOCAL</th>\n",
       "      <th>YYYYMMDDHH</th>\n",
       "      <th>YYYY_SOLAR</th>\n",
       "      <th>MM_SOLAR</th>\n",
       "      <th>DD_SOLAR</th>\n",
       "      <th>HHMM_SOLAR</th>\n",
       "      <th>NEAR_CMMTY</th>\n",
       "      <th>...</th>\n",
       "      <th>END_LON_W</th>\n",
       "      <th>LENGTH_M</th>\n",
       "      <th>MOTION_DEG</th>\n",
       "      <th>WIDTH_MAX_</th>\n",
       "      <th>HUMAN_FATA</th>\n",
       "      <th>HUMAN_INJ</th>\n",
       "      <th>ANIMAL_FAT</th>\n",
       "      <th>ANIMAL_INJ</th>\n",
       "      <th>DMG_THOUS</th>\n",
       "      <th>FORECAST_R</th>\n",
       "    </tr>\n",
       "  </thead>\n",
       "  <tbody>\n",
       "    <tr>\n",
       "      <th>0</th>\n",
       "      <td>1980.0</td>\n",
       "      <td>4.0</td>\n",
       "      <td>6.0</td>\n",
       "      <td>1920.0</td>\n",
       "      <td>19800407 0020</td>\n",
       "      <td>1980.0</td>\n",
       "      <td>4.0</td>\n",
       "      <td>6.0</td>\n",
       "      <td>1847.0</td>\n",
       "      <td>Altona</td>\n",
       "      <td>...</td>\n",
       "      <td>-999.000000</td>\n",
       "      <td>-999</td>\n",
       "      <td>-999</td>\n",
       "      <td>-999</td>\n",
       "      <td>-999</td>\n",
       "      <td>-999</td>\n",
       "      <td>-999</td>\n",
       "      <td>-999</td>\n",
       "      <td>-999.0</td>\n",
       "      <td>Morden - Winkler - Altona - Emerson - Morris</td>\n",
       "    </tr>\n",
       "    <tr>\n",
       "      <th>1</th>\n",
       "      <td>1980.0</td>\n",
       "      <td>5.0</td>\n",
       "      <td>5.0</td>\n",
       "      <td>2000.0</td>\n",
       "      <td>19800506 2300</td>\n",
       "      <td>1980.0</td>\n",
       "      <td>5.0</td>\n",
       "      <td>5.0</td>\n",
       "      <td>1839.0</td>\n",
       "      <td>Stratford</td>\n",
       "      <td>...</td>\n",
       "      <td>-80.963823</td>\n",
       "      <td>4190</td>\n",
       "      <td>265</td>\n",
       "      <td>30</td>\n",
       "      <td>-999</td>\n",
       "      <td>-999</td>\n",
       "      <td>-999</td>\n",
       "      <td>-999</td>\n",
       "      <td>-999.0</td>\n",
       "      <td>Huron - Perth</td>\n",
       "    </tr>\n",
       "    <tr>\n",
       "      <th>2</th>\n",
       "      <td>1980.0</td>\n",
       "      <td>5.0</td>\n",
       "      <td>25.0</td>\n",
       "      <td>1750.0</td>\n",
       "      <td>19800525 2350</td>\n",
       "      <td>1980.0</td>\n",
       "      <td>5.0</td>\n",
       "      <td>25.0</td>\n",
       "      <td>1559.0</td>\n",
       "      <td>Creelman</td>\n",
       "      <td>...</td>\n",
       "      <td>-999.000000</td>\n",
       "      <td>-999</td>\n",
       "      <td>-999</td>\n",
       "      <td>-999</td>\n",
       "      <td>-999</td>\n",
       "      <td>-999</td>\n",
       "      <td>-999</td>\n",
       "      <td>-999</td>\n",
       "      <td>-999.0</td>\n",
       "      <td>Estevan - Weyburn - Radville - Milestone</td>\n",
       "    </tr>\n",
       "    <tr>\n",
       "      <th>3</th>\n",
       "      <td>1980.0</td>\n",
       "      <td>5.0</td>\n",
       "      <td>28.0</td>\n",
       "      <td>1700.0</td>\n",
       "      <td>19800528 2200</td>\n",
       "      <td>1980.0</td>\n",
       "      <td>5.0</td>\n",
       "      <td>28.0</td>\n",
       "      <td>1530.0</td>\n",
       "      <td>16 km S of Morden</td>\n",
       "      <td>...</td>\n",
       "      <td>-999.000000</td>\n",
       "      <td>-999</td>\n",
       "      <td>-999</td>\n",
       "      <td>-999</td>\n",
       "      <td>-999</td>\n",
       "      <td>-999</td>\n",
       "      <td>-999</td>\n",
       "      <td>-999</td>\n",
       "      <td>-999.0</td>\n",
       "      <td>Morden - Winkler - Altona - Emerson - Morris</td>\n",
       "    </tr>\n",
       "    <tr>\n",
       "      <th>4</th>\n",
       "      <td>1980.0</td>\n",
       "      <td>5.0</td>\n",
       "      <td>31.0</td>\n",
       "      <td>1334.0</td>\n",
       "      <td>19800531 1734</td>\n",
       "      <td>1980.0</td>\n",
       "      <td>5.0</td>\n",
       "      <td>31.0</td>\n",
       "      <td>1217.0</td>\n",
       "      <td>Georgetown to Woodbridge</td>\n",
       "      <td>...</td>\n",
       "      <td>-79.643235</td>\n",
       "      <td>26300</td>\n",
       "      <td>245</td>\n",
       "      <td>490</td>\n",
       "      <td>0</td>\n",
       "      <td>0</td>\n",
       "      <td>0</td>\n",
       "      <td>0</td>\n",
       "      <td>900.0</td>\n",
       "      <td>Halton - Peel</td>\n",
       "    </tr>\n",
       "  </tbody>\n",
       "</table>\n",
       "<p>5 rows × 25 columns</p>\n",
       "</div>"
      ],
      "text/plain": [
       "   YYYY_LOCAL  MM_LOCAL  DD_LOCAL  HHMM_LOCAL     YYYYMMDDHH  YYYY_SOLAR  \\\n",
       "0      1980.0       4.0       6.0      1920.0  19800407 0020      1980.0   \n",
       "1      1980.0       5.0       5.0      2000.0  19800506 2300      1980.0   \n",
       "2      1980.0       5.0      25.0      1750.0  19800525 2350      1980.0   \n",
       "3      1980.0       5.0      28.0      1700.0  19800528 2200      1980.0   \n",
       "4      1980.0       5.0      31.0      1334.0  19800531 1734      1980.0   \n",
       "\n",
       "   MM_SOLAR  DD_SOLAR  HHMM_SOLAR                NEAR_CMMTY  ...   END_LON_W  \\\n",
       "0       4.0       6.0      1847.0                    Altona  ... -999.000000   \n",
       "1       5.0       5.0      1839.0                 Stratford  ...  -80.963823   \n",
       "2       5.0      25.0      1559.0                  Creelman  ... -999.000000   \n",
       "3       5.0      28.0      1530.0         16 km S of Morden  ... -999.000000   \n",
       "4       5.0      31.0      1217.0  Georgetown to Woodbridge  ...  -79.643235   \n",
       "\n",
       "   LENGTH_M  MOTION_DEG  WIDTH_MAX_  HUMAN_FATA  HUMAN_INJ  ANIMAL_FAT  \\\n",
       "0      -999        -999        -999        -999       -999        -999   \n",
       "1      4190         265          30        -999       -999        -999   \n",
       "2      -999        -999        -999        -999       -999        -999   \n",
       "3      -999        -999        -999        -999       -999        -999   \n",
       "4     26300         245         490           0          0           0   \n",
       "\n",
       "   ANIMAL_INJ  DMG_THOUS                                    FORECAST_R  \n",
       "0        -999     -999.0  Morden - Winkler - Altona - Emerson - Morris  \n",
       "1        -999     -999.0                                 Huron - Perth  \n",
       "2        -999     -999.0      Estevan - Weyburn - Radville - Milestone  \n",
       "3        -999     -999.0  Morden - Winkler - Altona - Emerson - Morris  \n",
       "4           0      900.0                                 Halton - Peel  \n",
       "\n",
       "[5 rows x 25 columns]"
      ]
     },
     "execution_count": 4,
     "metadata": {},
     "output_type": "execute_result"
    }
   ],
   "source": [
    "df.head()"
   ]
  },
  {
   "cell_type": "code",
   "execution_count": 35,
   "metadata": {},
   "outputs": [
    {
     "data": {
      "text/plain": [
       "1839"
      ]
     },
     "execution_count": 35,
     "metadata": {},
     "output_type": "execute_result"
    }
   ],
   "source": [
    "# Number of tornadoes recorded in Canada from 1980 to 2009\n",
    "len(df)"
   ]
  },
  {
   "cell_type": "code",
   "execution_count": 8,
   "metadata": {},
   "outputs": [
    {
     "data": {
      "text/html": [
       "<div>\n",
       "<style scoped>\n",
       "    .dataframe tbody tr th:only-of-type {\n",
       "        vertical-align: middle;\n",
       "    }\n",
       "\n",
       "    .dataframe tbody tr th {\n",
       "        vertical-align: top;\n",
       "    }\n",
       "\n",
       "    .dataframe thead th {\n",
       "        text-align: right;\n",
       "    }\n",
       "</style>\n",
       "<table border=\"1\" class=\"dataframe\">\n",
       "  <thead>\n",
       "    <tr style=\"text-align: right;\">\n",
       "      <th></th>\n",
       "      <th>YYYY_LOCAL</th>\n",
       "      <th>MM_LOCAL</th>\n",
       "      <th>DD_LOCAL</th>\n",
       "      <th>HHMM_LOCAL</th>\n",
       "      <th>NEAR_CMMTY</th>\n",
       "      <th>PROVINCE</th>\n",
       "      <th>START_LAT_</th>\n",
       "      <th>START_LON_</th>\n",
       "      <th>END_LAT_N</th>\n",
       "      <th>END_LON_W</th>\n",
       "      <th>LENGTH_M</th>\n",
       "      <th>MOTION_DEG</th>\n",
       "      <th>WIDTH_MAX_</th>\n",
       "      <th>DMG_THOUS</th>\n",
       "    </tr>\n",
       "  </thead>\n",
       "  <tbody>\n",
       "    <tr>\n",
       "      <th>0</th>\n",
       "      <td>1980.0</td>\n",
       "      <td>4.0</td>\n",
       "      <td>6.0</td>\n",
       "      <td>1920.0</td>\n",
       "      <td>Altona</td>\n",
       "      <td>MB</td>\n",
       "      <td>49.105000</td>\n",
       "      <td>-97.568000</td>\n",
       "      <td>-999.000000</td>\n",
       "      <td>-999.000000</td>\n",
       "      <td>-999</td>\n",
       "      <td>-999</td>\n",
       "      <td>-999</td>\n",
       "      <td>-999.0</td>\n",
       "    </tr>\n",
       "    <tr>\n",
       "      <th>1</th>\n",
       "      <td>1980.0</td>\n",
       "      <td>5.0</td>\n",
       "      <td>5.0</td>\n",
       "      <td>2000.0</td>\n",
       "      <td>Stratford</td>\n",
       "      <td>ON</td>\n",
       "      <td>43.385625</td>\n",
       "      <td>-81.012735</td>\n",
       "      <td>43.389700</td>\n",
       "      <td>-80.963823</td>\n",
       "      <td>4190</td>\n",
       "      <td>265</td>\n",
       "      <td>30</td>\n",
       "      <td>-999.0</td>\n",
       "    </tr>\n",
       "    <tr>\n",
       "      <th>2</th>\n",
       "      <td>1980.0</td>\n",
       "      <td>5.0</td>\n",
       "      <td>25.0</td>\n",
       "      <td>1750.0</td>\n",
       "      <td>Creelman</td>\n",
       "      <td>SK</td>\n",
       "      <td>49.840000</td>\n",
       "      <td>-103.630000</td>\n",
       "      <td>-999.000000</td>\n",
       "      <td>-999.000000</td>\n",
       "      <td>-999</td>\n",
       "      <td>-999</td>\n",
       "      <td>-999</td>\n",
       "      <td>-999.0</td>\n",
       "    </tr>\n",
       "    <tr>\n",
       "      <th>3</th>\n",
       "      <td>1980.0</td>\n",
       "      <td>5.0</td>\n",
       "      <td>28.0</td>\n",
       "      <td>1700.0</td>\n",
       "      <td>16 km S of Morden</td>\n",
       "      <td>MB</td>\n",
       "      <td>49.190000</td>\n",
       "      <td>-98.100000</td>\n",
       "      <td>-999.000000</td>\n",
       "      <td>-999.000000</td>\n",
       "      <td>-999</td>\n",
       "      <td>-999</td>\n",
       "      <td>-999</td>\n",
       "      <td>-999.0</td>\n",
       "    </tr>\n",
       "    <tr>\n",
       "      <th>4</th>\n",
       "      <td>1980.0</td>\n",
       "      <td>5.0</td>\n",
       "      <td>31.0</td>\n",
       "      <td>1334.0</td>\n",
       "      <td>Georgetown to Woodbridge</td>\n",
       "      <td>ON</td>\n",
       "      <td>43.652990</td>\n",
       "      <td>-79.930887</td>\n",
       "      <td>43.762647</td>\n",
       "      <td>-79.643235</td>\n",
       "      <td>26300</td>\n",
       "      <td>245</td>\n",
       "      <td>490</td>\n",
       "      <td>900.0</td>\n",
       "    </tr>\n",
       "  </tbody>\n",
       "</table>\n",
       "</div>"
      ],
      "text/plain": [
       "   YYYY_LOCAL  MM_LOCAL  DD_LOCAL  HHMM_LOCAL                NEAR_CMMTY  \\\n",
       "0      1980.0       4.0       6.0      1920.0                    Altona   \n",
       "1      1980.0       5.0       5.0      2000.0                 Stratford   \n",
       "2      1980.0       5.0      25.0      1750.0                  Creelman   \n",
       "3      1980.0       5.0      28.0      1700.0         16 km S of Morden   \n",
       "4      1980.0       5.0      31.0      1334.0  Georgetown to Woodbridge   \n",
       "\n",
       "  PROVINCE  START_LAT_  START_LON_   END_LAT_N   END_LON_W  LENGTH_M  \\\n",
       "0       MB   49.105000  -97.568000 -999.000000 -999.000000      -999   \n",
       "1       ON   43.385625  -81.012735   43.389700  -80.963823      4190   \n",
       "2       SK   49.840000 -103.630000 -999.000000 -999.000000      -999   \n",
       "3       MB   49.190000  -98.100000 -999.000000 -999.000000      -999   \n",
       "4       ON   43.652990  -79.930887   43.762647  -79.643235     26300   \n",
       "\n",
       "   MOTION_DEG  WIDTH_MAX_  DMG_THOUS  \n",
       "0        -999        -999     -999.0  \n",
       "1         265          30     -999.0  \n",
       "2        -999        -999     -999.0  \n",
       "3        -999        -999     -999.0  \n",
       "4         245         490      900.0  "
      ]
     },
     "execution_count": 8,
     "metadata": {},
     "output_type": "execute_result"
    }
   ],
   "source": [
    "df.columns\n",
    "columns_of_interest = ['YYYY_LOCAL', 'MM_LOCAL', 'DD_LOCAL', 'HHMM_LOCAL',\n",
    "        'NEAR_CMMTY',\n",
    "       'PROVINCE', 'START_LAT_', 'START_LON_', 'END_LAT_N',\n",
    "       'END_LON_W', 'LENGTH_M', 'MOTION_DEG', 'WIDTH_MAX_', 'DMG_THOUS']\n",
    "df = df[columns_of_interest]\n",
    "df.head()"
   ]
  },
  {
   "cell_type": "code",
   "execution_count": 36,
   "metadata": {},
   "outputs": [
    {
     "data": {
      "text/html": [
       "<div>\n",
       "<style scoped>\n",
       "    .dataframe tbody tr th:only-of-type {\n",
       "        vertical-align: middle;\n",
       "    }\n",
       "\n",
       "    .dataframe tbody tr th {\n",
       "        vertical-align: top;\n",
       "    }\n",
       "\n",
       "    .dataframe thead th {\n",
       "        text-align: right;\n",
       "    }\n",
       "</style>\n",
       "<table border=\"1\" class=\"dataframe\">\n",
       "  <thead>\n",
       "    <tr style=\"text-align: right;\">\n",
       "      <th></th>\n",
       "      <th>year</th>\n",
       "      <th>month</th>\n",
       "      <th>day</th>\n",
       "      <th>hhmm</th>\n",
       "      <th>community</th>\n",
       "      <th>province</th>\n",
       "      <th>start_lat_n</th>\n",
       "      <th>start_lon_w</th>\n",
       "      <th>end_lat_n</th>\n",
       "      <th>end_lon_w</th>\n",
       "      <th>length</th>\n",
       "      <th>motion_deg</th>\n",
       "      <th>width_max</th>\n",
       "      <th>dmg_thous</th>\n",
       "    </tr>\n",
       "  </thead>\n",
       "  <tbody>\n",
       "    <tr>\n",
       "      <th>0</th>\n",
       "      <td>1980</td>\n",
       "      <td>4</td>\n",
       "      <td>6</td>\n",
       "      <td>1920</td>\n",
       "      <td>Altona</td>\n",
       "      <td>MB</td>\n",
       "      <td>49.105000</td>\n",
       "      <td>-97.568000</td>\n",
       "      <td>-999.000000</td>\n",
       "      <td>-999.000000</td>\n",
       "      <td>-999</td>\n",
       "      <td>-999</td>\n",
       "      <td>-999</td>\n",
       "      <td>-999.0</td>\n",
       "    </tr>\n",
       "    <tr>\n",
       "      <th>1</th>\n",
       "      <td>1980</td>\n",
       "      <td>5</td>\n",
       "      <td>5</td>\n",
       "      <td>2000</td>\n",
       "      <td>Stratford</td>\n",
       "      <td>ON</td>\n",
       "      <td>43.385625</td>\n",
       "      <td>-81.012735</td>\n",
       "      <td>43.389700</td>\n",
       "      <td>-80.963823</td>\n",
       "      <td>4190</td>\n",
       "      <td>265</td>\n",
       "      <td>30</td>\n",
       "      <td>-999.0</td>\n",
       "    </tr>\n",
       "    <tr>\n",
       "      <th>2</th>\n",
       "      <td>1980</td>\n",
       "      <td>5</td>\n",
       "      <td>25</td>\n",
       "      <td>1750</td>\n",
       "      <td>Creelman</td>\n",
       "      <td>SK</td>\n",
       "      <td>49.840000</td>\n",
       "      <td>-103.630000</td>\n",
       "      <td>-999.000000</td>\n",
       "      <td>-999.000000</td>\n",
       "      <td>-999</td>\n",
       "      <td>-999</td>\n",
       "      <td>-999</td>\n",
       "      <td>-999.0</td>\n",
       "    </tr>\n",
       "    <tr>\n",
       "      <th>3</th>\n",
       "      <td>1980</td>\n",
       "      <td>5</td>\n",
       "      <td>28</td>\n",
       "      <td>1700</td>\n",
       "      <td>16 km S of Morden</td>\n",
       "      <td>MB</td>\n",
       "      <td>49.190000</td>\n",
       "      <td>-98.100000</td>\n",
       "      <td>-999.000000</td>\n",
       "      <td>-999.000000</td>\n",
       "      <td>-999</td>\n",
       "      <td>-999</td>\n",
       "      <td>-999</td>\n",
       "      <td>-999.0</td>\n",
       "    </tr>\n",
       "    <tr>\n",
       "      <th>4</th>\n",
       "      <td>1980</td>\n",
       "      <td>5</td>\n",
       "      <td>31</td>\n",
       "      <td>1334</td>\n",
       "      <td>Georgetown to Woodbridge</td>\n",
       "      <td>ON</td>\n",
       "      <td>43.652990</td>\n",
       "      <td>-79.930887</td>\n",
       "      <td>43.762647</td>\n",
       "      <td>-79.643235</td>\n",
       "      <td>26300</td>\n",
       "      <td>245</td>\n",
       "      <td>490</td>\n",
       "      <td>900.0</td>\n",
       "    </tr>\n",
       "  </tbody>\n",
       "</table>\n",
       "</div>"
      ],
      "text/plain": [
       "   year  month  day  hhmm                 community province  start_lat_n  \\\n",
       "0  1980      4    6  1920                    Altona       MB    49.105000   \n",
       "1  1980      5    5  2000                 Stratford       ON    43.385625   \n",
       "2  1980      5   25  1750                  Creelman       SK    49.840000   \n",
       "3  1980      5   28  1700         16 km S of Morden       MB    49.190000   \n",
       "4  1980      5   31  1334  Georgetown to Woodbridge       ON    43.652990   \n",
       "\n",
       "   start_lon_w   end_lat_n   end_lon_w  length  motion_deg  width_max  \\\n",
       "0   -97.568000 -999.000000 -999.000000    -999        -999       -999   \n",
       "1   -81.012735   43.389700  -80.963823    4190         265         30   \n",
       "2  -103.630000 -999.000000 -999.000000    -999        -999       -999   \n",
       "3   -98.100000 -999.000000 -999.000000    -999        -999       -999   \n",
       "4   -79.930887   43.762647  -79.643235   26300         245        490   \n",
       "\n",
       "   dmg_thous  \n",
       "0     -999.0  \n",
       "1     -999.0  \n",
       "2     -999.0  \n",
       "3     -999.0  \n",
       "4      900.0  "
      ]
     },
     "execution_count": 36,
     "metadata": {},
     "output_type": "execute_result"
    }
   ],
   "source": [
    "# give better names to columns\n",
    "df.columns=['year', 'month', 'day', 'hhmm', 'community', 'province', 'start_lat_n', 'start_lon_w', 'end_lat_n', 'end_lon_w',\n",
    "           'length', 'motion_deg', 'width_max', 'dmg_thous']\n",
    "df.head()"
   ]
  },
  {
   "cell_type": "code",
   "execution_count": 21,
   "metadata": {},
   "outputs": [],
   "source": [
    "df['year'] = df.year.astype(int)\n",
    "df['month'] = df.month.astype(int)\n",
    "df['day'] = df.day.astype(int)\n",
    "df['hhmm'] = df.hhmm.astype(int)"
   ]
  },
  {
   "cell_type": "code",
   "execution_count": 34,
   "metadata": {},
   "outputs": [],
   "source": [
    "#df.dtypes"
   ]
  },
  {
   "cell_type": "code",
   "execution_count": null,
   "metadata": {},
   "outputs": [],
   "source": []
  },
  {
   "cell_type": "code",
   "execution_count": 37,
   "metadata": {},
   "outputs": [
    {
     "data": {
      "text/plain": [
       "<matplotlib.axes._subplots.AxesSubplot at 0x600af98>"
      ]
     },
     "execution_count": 37,
     "metadata": {},
     "output_type": "execute_result"
    },
    {
     "data": {
      "image/png": "[encoded data removed]",
      "text/plain": [
       "<Figure size 432x288 with 1 Axes>"
      ]
     },
     "metadata": {
      "needs_background": "light"
     },
     "output_type": "display_data"
    }
   ],
   "source": [
    "# Most frequent tornado locations in Canada from 1980 to 2009\n",
    "df.community.value_counts().head(10).plot(kind='barh')"
   ]
  },
  {
   "cell_type": "code",
   "execution_count": 24,
   "metadata": {},
   "outputs": [
    {
     "data": {
      "text/plain": [
       "<matplotlib.axes._subplots.AxesSubplot at 0x9c069b0>"
      ]
     },
     "execution_count": 24,
     "metadata": {},
     "output_type": "execute_result"
    },
    {
     "data": {
      "image/png": "[encoded data removed]",
      "text/plain": [
       "<Figure size 432x288 with 1 Axes>"
      ]
     },
     "metadata": {
      "needs_background": "light"
     },
     "output_type": "display_data"
    }
   ],
   "source": [
    "# Most active tornado provinces\n",
    "df.province.value_counts().plot(kind='barh')"
   ]
  },
  {
   "cell_type": "code",
   "execution_count": 32,
   "metadata": {},
   "outputs": [
    {
     "data": {
      "text/plain": [
       "<matplotlib.axes._subplots.AxesSubplot at 0x5f1de10>"
      ]
     },
     "execution_count": 32,
     "metadata": {},
     "output_type": "execute_result"
    },
    {
     "data": {
      "image/png": "[encoded data removed]",
      "text/plain": [
       "<Figure size 432x288 with 1 Axes>"
      ]
     },
     "metadata": {
      "needs_background": "light"
     },
     "output_type": "display_data"
    }
   ],
   "source": [
    "# Most Active tornado years\n",
    "df.year.value_counts().head(10).plot(kind='barh')"
   ]
  },
  {
   "cell_type": "code",
   "execution_count": null,
   "metadata": {},
   "outputs": [],
   "source": [
    "# most active years scatter plot"
   ]
  },
  {
   "cell_type": "code",
   "execution_count": null,
   "metadata": {},
   "outputs": [],
   "source": [
    "# scatter plot with a trend line"
   ]
  },
  {
   "cell_type": "code",
   "execution_count": null,
   "metadata": {},
   "outputs": [],
   "source": [
    "# table of ontario most active communities"
   ]
  },
  {
   "cell_type": "code",
   "execution_count": null,
   "metadata": {},
   "outputs": [],
   "source": []
  },
  {
   "cell_type": "code",
   "execution_count": null,
   "metadata": {},
   "outputs": [],
   "source": []
  },
  {
   "cell_type": "code",
   "execution_count": null,
   "metadata": {},
   "outputs": [],
   "source": []
  },
  {
   "cell_type": "code",
   "execution_count": null,
   "metadata": {},
   "outputs": [],
   "source": []
  },
  {
   "cell_type": "code",
   "execution_count": null,
   "metadata": {},
   "outputs": [],
   "source": []
  },
  {
   "cell_type": "code",
   "execution_count": null,
   "metadata": {},
   "outputs": [],
   "source": []
  },
  {
   "cell_type": "code",
   "execution_count": null,
   "metadata": {},
   "outputs": [],
   "source": []
  },
  {
   "cell_type": "code",
   "execution_count": null,
   "metadata": {},
   "outputs": [],
   "source": []
  },
  {
   "cell_type": "code",
   "execution_count": null,
   "metadata": {},
   "outputs": [],
   "source": []
  },
  {
   "cell_type": "code",
   "execution_count": null,
   "metadata": {},
   "outputs": [],
   "source": []
  },
  {
   "cell_type": "code",
   "execution_count": null,
   "metadata": {},
   "outputs": [],
   "source": []
  }
 ],
 "metadata": {
  "kernelspec": {
   "display_name": "Python 3",
   "language": "python",
   "name": "python3"
  },
  "language_info": {
   "codemirror_mode": {
    "name": "ipython",
    "version": 3
   },
   "file_extension": ".py",
   "mimetype": "text/x-python",
   "name": "python",
   "nbconvert_exporter": "python",
   "pygments_lexer": "ipython3",
   "version": "3.7.3"
  }
 },
 "nbformat": 4,
 "nbformat_minor": 2
}
